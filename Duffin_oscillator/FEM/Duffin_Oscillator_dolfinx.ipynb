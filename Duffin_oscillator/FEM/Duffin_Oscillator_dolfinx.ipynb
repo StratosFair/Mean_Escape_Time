{
  "nbformat": 4,
  "nbformat_minor": 0,
  "metadata": {
    "colab": {
      "provenance": [],
      "include_colab_link": true
    },
    "kernelspec": {
      "name": "python3",
      "display_name": "Python 3"
    },
    "language_info": {
      "name": "python"
    }
  },
  "cells": [
    {
      "cell_type": "markdown",
      "metadata": {
        "id": "view-in-github",
        "colab_type": "text"
      },
      "source": [
        "<a href=\"https://colab.research.google.com/github/StratosFair/Mean_Escape_Time/blob/main/Duffin_oscillator/FEM/Duffin_Oscillator_dolfinx.ipynb\" target=\"_parent\"><img src=\"https://colab.research.google.com/assets/colab-badge.svg\" alt=\"Open In Colab\"/></a>"
      ]
    },
    {
      "cell_type": "code",
      "source": [
        "'''try:\n",
        "    import dolfin\n",
        "except ImportError:\n",
        "    !wget \"https://fem-on-colab.github.io/releases/fenics-install-release-real.sh\" -O \"/tmp/fenics-install.sh\" && bash \"/tmp/fenics-install.sh\"\n",
        "    import dolfin'''"
      ],
      "metadata": {
        "id": "QyHpcaMuTzfE",
        "colab": {
          "base_uri": "https://localhost:8080/",
          "height": 53
        },
        "outputId": "4d390161-775e-4976-ebb2-945792d1914b"
      },
      "execution_count": null,
      "outputs": [
        {
          "output_type": "execute_result",
          "data": {
            "text/plain": [
              "'try:\\n    import dolfin\\nexcept ImportError:\\n    !wget \"https://fem-on-colab.github.io/releases/fenics-install-release-real.sh\" -O \"/tmp/fenics-install.sh\" && bash \"/tmp/fenics-install.sh\"\\n    import dolfin'"
            ],
            "application/vnd.google.colaboratory.intrinsic+json": {
              "type": "string"
            }
          },
          "metadata": {},
          "execution_count": 1
        }
      ]
    },
    {
      "cell_type": "code",
      "source": [
        "try:\n",
        "    import dolfinx\n",
        "except ImportError:\n",
        "    !wget \"https://fem-on-colab.github.io/releases/fenicsx-install-release-real.sh\" -O \"/tmp/fenicsx-install.sh\" && bash \"/tmp/fenicsx-install.sh\"\n",
        "    import dolfinx"
      ],
      "metadata": {
        "id": "lr74q3TqTt5p"
      },
      "execution_count": null,
      "outputs": []
    },
    {
      "cell_type": "code",
      "source": [
        "try:\n",
        "    import gmsh\n",
        "except ImportError:\n",
        "    !wget \"https://fem-on-colab.github.io/releases/gmsh-install.sh\" -O \"/tmp/gmsh-install.sh\" && bash \"/tmp/gmsh-install.sh\"\n",
        "    import gmsh"
      ],
      "metadata": {
        "id": "evsHkv8KTl0A"
      },
      "execution_count": null,
      "outputs": []
    },
    {
      "cell_type": "code",
      "source": [
        "!apt-get update\n",
        "!apt-get install -qq xvfb libgl1-mesa-glx\n",
        "!pip install pyvista -qq"
      ],
      "metadata": {
        "colab": {
          "base_uri": "https://localhost:8080/"
        },
        "id": "09b4d0noJ8nA",
        "outputId": "36546b00-6431-44c2-904f-22b4fcde7add"
      },
      "execution_count": null,
      "outputs": [
        {
          "output_type": "stream",
          "name": "stdout",
          "text": [
            "Hit:1 https://cloud.r-project.org/bin/linux/ubuntu jammy-cran40/ InRelease\n",
            "Hit:2 http://archive.ubuntu.com/ubuntu jammy InRelease\n",
            "Hit:3 http://security.ubuntu.com/ubuntu jammy-security InRelease\n",
            "Hit:4 http://archive.ubuntu.com/ubuntu jammy-updates InRelease\n",
            "Hit:5 http://archive.ubuntu.com/ubuntu jammy-backports InRelease\n",
            "Hit:6 https://r2u.stat.illinois.edu/ubuntu jammy InRelease\n",
            "Hit:7 https://ppa.launchpadcontent.net/deadsnakes/ppa/ubuntu jammy InRelease\n",
            "Hit:8 https://ppa.launchpadcontent.net/graphics-drivers/ppa/ubuntu jammy InRelease\n",
            "Hit:9 https://ppa.launchpadcontent.net/ubuntugis/ppa/ubuntu jammy InRelease\n",
            "Hit:10 https://developer.download.nvidia.com/compute/cuda/repos/ubuntu2204/x86_64  InRelease\n",
            "Reading package lists... Done\n",
            "W: Skipping acquire of configured file 'main/source/Sources' as repository 'https://r2u.stat.illinois.edu/ubuntu jammy InRelease' does not seem to provide it (sources.list entry misspelt?)\n"
          ]
        }
      ]
    },
    {
      "cell_type": "markdown",
      "source": [
        "#  Duffing oscillator process in a ball of $\\mathbb{R}^2$ : computation of solutions using Finite Element Method\n",
        "\n",
        "Based on the paper [A neural network solution of first-passage problems](https://link.springer.com/article/10.1007/s10483-024-3189-8) (Jiamin Qian, Lincong Chen & J. Q. Sun, Oct. 2024), the 2-dimensional Duffing oscillator is defined by:\n",
        "$$ d \\begin{pmatrix} X_1(t)\\\\\n",
        "X_2(t) \\end{pmatrix} = \\begin{pmatrix} X_2\\\\\n",
        "-X_1 - X_1^3 - 2\\zeta X_2 \\end{pmatrix} dt + \\begin{pmatrix} \\sqrt{2\\varepsilon}dB_1(t)\\\\\n",
        "\\sqrt{2\\zeta} dB_2(t) \\end{pmatrix}$$\n",
        "\n",
        "The infinitesimal generator of this process is given for sufficiently smooth $f$ by\n",
        "$$\\mathscr Lf: x \\mapsto b(x) \\cdot \\nabla f(x) + a(x) : \\nabla^2 f(x)$$\n",
        "where\n",
        "$$b : x = (x_1, x_2)^T \\mapsto \\begin{pmatrix} x_2\\\\ -x_1 - x_1^3 - 2\\zeta x_2 \\end{pmatrix}  $$\n",
        "and\n",
        "$$a:x \\mapsto \\frac12 \\sigma(x)\\sigma(x)^T = \\begin{pmatrix} \\varepsilon & 0\\\\ 0 & \\zeta\\end{pmatrix} $$"
      ],
      "metadata": {
        "id": "Rh-yuT-m-8z6"
      }
    },
    {
      "cell_type": "markdown",
      "source": [
        "## 1) The PDE problem\n",
        "\n",
        "The Mean Escape Time (MET) $\\tau$ is solution of the following elliptic problem\n",
        "\n",
        "$$\\begin{cases}\\mathscr L\\tau = -1 \\quad \\text{in } \\Omega,\\\\\n",
        "\\tau= 0 \\quad\\text{ on }\\partial\\Omega\\end{cases} $$"
      ],
      "metadata": {
        "id": "12MVauZ9WKdR"
      }
    },
    {
      "cell_type": "markdown",
      "source": [
        "##2) The variational formulation\n",
        "\n",
        "Because $\\mathscr L$ is a second-order elliptic operator, we need to use integration by parts to make the PDE solvable in a traditional FEM solver. To do so, we multiply the PDE with a test function $v\\in \\hat V$, which belongs in the test function space $\\hat V$. We then integrate over $\\Omega$:\n",
        "$$\\begin{align*}\\int_\\Omega\\mathscr L\\tau\\cdot v = -\\int_\\Omega v &\\implies \\int_\\Omega \\Big(x_2\\partial_{x_1}\\tau(x) - (x_1 + x_1^3 + 2\\zeta x_2)\\partial_{x_2} \\tau(x) + \\varepsilon \\partial^2_{x_1,x_1}\\tau(x) + \\zeta \\partial^2_{x_2,x_2}\\tau(x) + 1\\Big)v(x)dx = 0 \\end{align*} $$\n",
        "\n",
        "The first order derivatives of $\\tau$ can be handled just fine by the solver, but the second order derivatives can't, hence we apply integration by parts to get the following weak formulation:\n",
        "\n",
        "$$\\int_\\Omega \\Big[\\Big(x_2\\partial_{x_1}\\tau(x) - (x_1 + x_1^3 + 2\\zeta x_2)\\partial_{x_2} \\tau(x)\\Big)v(x) - \\varepsilon \\partial_{x_1}\\tau(x)\\partial_{x_1}v(x) - \\zeta \\partial_{x_2}\\tau(x)\\partial_{x_2}v(x)\\Big] dx = - \\int_\\Omega v(x) dx$$\n",
        "\n",
        "Which can be equivalently rewritten as\n",
        "\n",
        "$$ a[\\tau, v] = L(v) $$\n",
        "\n",
        "Where $a$ is the bilinear form defined as\n",
        "\n",
        "$$a : (\\tau, v)\\mapsto \\int_\\Omega \\Big[\\Big(x_2\\partial_{x_1}\\tau(x) - (x_1 + x_1^3 + 2\\zeta x_2)\\partial_{x_2} \\tau(x)\\Big)v(x) - \\varepsilon \\partial_{x_1}\\tau(x)\\partial_{x_1}v(x) - \\zeta \\partial_{x_2}\\tau(x)\\partial_{x_2}v(x)\\Big] dx, $$\n",
        "\n",
        "which equivalently reads\n",
        "\n",
        "$$a : (\\tau, v)\\mapsto \\int_\\Omega \\nabla\\tau(x) \\cdot b(x) v(x) - \\text{diag}(\\varepsilon, \\zeta)\\nabla\\tau(x)\\cdot\\nabla v(x) dx$$\n",
        "\n",
        "and $L$ is the linear form defined as\n",
        "\n",
        "$$L : v\\mapsto - \\int_\\Omega v(x) dx $$"
      ],
      "metadata": {
        "id": "m4T01vVRX3X2"
      }
    },
    {
      "cell_type": "markdown",
      "source": [
        "## 3) FEniCS implementation"
      ],
      "metadata": {
        "id": "6ZGTlmdxamkC"
      }
    },
    {
      "cell_type": "code",
      "execution_count": null,
      "metadata": {
        "id": "5rn_zfHW-pLD"
      },
      "outputs": [],
      "source": [
        "import numpy as np\n",
        "from mpi4py import MPI\n",
        "import ufl\n",
        "from dolfinx import mesh\n",
        "from dolfinx.io import gmshio\n",
        "from dolfinx.fem.petsc import LinearProblem\n",
        "from dolfinx import fem\n",
        "from dolfinx import default_scalar_type"
      ]
    },
    {
      "cell_type": "code",
      "source": [
        "#generate mesh with gmsh and define function space\n",
        "radius = 2\n",
        "gmsh.initialize()\n",
        "membrane = gmsh.model.occ.addDisk(0, 0, 0, radius, radius)\n",
        "gmsh.model.occ.synchronize()\n",
        "gdim = 2\n",
        "gmsh.model.addPhysicalGroup(gdim, [membrane], 1)\n",
        "gmsh.option.setNumber(\"Mesh.CharacteristicLengthMin\", 0.05)\n",
        "gmsh.option.setNumber(\"Mesh.CharacteristicLengthMax\", 0.05)\n",
        "gmsh.model.mesh.generate(gdim)"
      ],
      "metadata": {
        "id": "SLwahEeXb4mi"
      },
      "execution_count": null,
      "outputs": []
    },
    {
      "cell_type": "code",
      "source": [
        "#interfacing between gmsh and dolfinx\n",
        "gmsh_model_rank = 0\n",
        "mesh_comm = MPI.COMM_WORLD\n",
        "domain, cell_markers, facet_markers = gmshio.model_to_mesh(gmsh.model, mesh_comm, gmsh_model_rank, gdim=gdim)"
      ],
      "metadata": {
        "id": "_9M4RWTggq-R"
      },
      "execution_count": null,
      "outputs": []
    },
    {
      "cell_type": "code",
      "source": [
        "#define function space and boundary conditions\n",
        "\n",
        "x = ufl.SpatialCoordinate(domain) #ufl variable\n",
        "\n",
        "#define function space\n",
        "V_scalar = fem.functionspace(domain, (\"Lagrange\", 2))\n",
        "V_vector =  fem.functionspace(domain, (\"Lagrange\", 2, (gdim,)))\n",
        "V_matrix =  fem.functionspace(domain, (\"Lagrange\", 2, (gdim,gdim)))\n",
        "\n",
        "#define boundary conditions\n",
        "def on_boundary(x):\n",
        "    return np.isclose(np.sqrt(x[0]**2 + x[1]**2), radius)\n",
        "\n",
        "boundary_dofs = fem.locate_dofs_geometrical(V_scalar, on_boundary)\n",
        "bc = fem.dirichletbc(default_scalar_type(0), boundary_dofs, V_scalar)"
      ],
      "metadata": {
        "id": "lmvV1-A_gxl5"
      },
      "execution_count": null,
      "outputs": []
    },
    {
      "cell_type": "code",
      "source": [
        "zeta = 0.08\n",
        "eps = 0.001\n",
        "\n",
        "# Define variational problem\n",
        "def drift(x):\n",
        "    vals = np.zeros((gdim, x.shape[1]))\n",
        "    vals[0] = x[1]\n",
        "    vals[1] = -x[0] - x[0]**3 -2*zeta *x[1]\n",
        "    return vals\n",
        "\n",
        "def diffusion(x):\n",
        "    values = np.zeros((gdim * gdim , x.shape[1]))\n",
        "    values[0] = eps  # location [0,0]\n",
        "    #values[1] = 3*x[0]  # location [0,1]\n",
        "    #values[2] = 3  # location [1,0]\n",
        "    values[3] = zeta  # location [1, 1]\n",
        "    return values\n",
        "\n",
        "b = dolfinx.fem.Function(V_vector)\n",
        "b.interpolate(drift)\n",
        "\n",
        "diag = dolfinx.fem.Function(V_matrix)\n",
        "diag.interpolate(diffusion)\n",
        "\n",
        "tau = ufl.TrialFunction(V_scalar)\n",
        "v = ufl.TestFunction(V_scalar)\n",
        "\n",
        "a = ufl.dot(ufl.grad(tau), b) * v * ufl.dx - ufl.dot(diag * ufl.grad(tau), ufl.grad(v)) * ufl.dx\n",
        "L = -1 * v * ufl.dx\n",
        "\n",
        "problem = LinearProblem(a, L, bcs=[bc], petsc_options={\"ksp_type\": \"preonly\", \"pc_type\": \"lu\"})\n",
        "\n",
        "#Solve problem\n",
        "tau_h = problem.solve()\n"
      ],
      "metadata": {
        "id": "Q_QL1MhB4u36"
      },
      "execution_count": null,
      "outputs": []
    },
    {
      "cell_type": "markdown",
      "source": [
        "## 4) Plotting the solution"
      ],
      "metadata": {
        "id": "kf89kvTmBeXc"
      }
    },
    {
      "cell_type": "code",
      "source": [
        "from dolfinx.plot import vtk_mesh\n",
        "import pyvista\n",
        "pyvista.start_xvfb()\n",
        "pyvista.OFF_SCREEN = True\n",
        "\n",
        "# Extract topology from mesh and create pyvista mesh\n",
        "topology, cell_types, x = vtk_mesh(V_scalar)\n",
        "grid = pyvista.UnstructuredGrid(topology, cell_types, x)\n",
        "\n",
        "# Set deflection values and add it to plotter\n",
        "grid.point_data[\"u\"] = tau_h.x.array\n",
        "warped = grid.warp_by_scalar(\"u\", factor=25)\n",
        "\n",
        "plotter = pyvista.Plotter()\n",
        "plotter.add_mesh(warped, show_edges=True, show_scalar_bar=True, scalars=\"u\")\n",
        "if not pyvista.OFF_SCREEN:\n",
        "    plotter.show()\n",
        "else:\n",
        "    plotter.screenshot(\"duff_oscillator_met.png\")"
      ],
      "metadata": {
        "colab": {
          "base_uri": "https://localhost:8080/"
        },
        "id": "uin5BE8SBntW",
        "outputId": "28067f7b-6ada-4dd9-8000-1d4821f24b57"
      },
      "execution_count": null,
      "outputs": [
        {
          "output_type": "stream",
          "name": "stderr",
          "text": [
            "WARNING:py.warnings:/usr/local/lib/python3.11/dist-packages/pyvista/plotting/utilities/xvfb.py:48: PyVistaDeprecationWarning: This function is deprecated and will be removed in future version of PyVista. Use vtk-osmesa instead.\n",
            "  warnings.warn(\n",
            "\n"
          ]
        }
      ]
    }
  ]
}