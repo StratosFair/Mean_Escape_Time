{
  "nbformat": 4,
  "nbformat_minor": 0,
  "metadata": {
    "colab": {
      "provenance": [],
      "authorship_tag": "ABX9TyNXPUw4VS7u0JFB1HV1Figj",
      "include_colab_link": true
    },
    "kernelspec": {
      "name": "python3",
      "display_name": "Python 3"
    },
    "language_info": {
      "name": "python"
    }
  },
  "cells": [
    {
      "cell_type": "markdown",
      "metadata": {
        "id": "view-in-github",
        "colab_type": "text"
      },
      "source": [
        "<a href=\"https://colab.research.google.com/github/StratosFair/Mean_Escape_Time/blob/main/Duffin_oscillator/FEM/Duffin_Oscillator_fenics.ipynb\" target=\"_parent\"><img src=\"https://colab.research.google.com/assets/colab-badge.svg\" alt=\"Open In Colab\"/></a>"
      ]
    },
    {
      "cell_type": "code",
      "source": [
        "try:\n",
        "    import dolfin\n",
        "except ImportError:\n",
        "    !wget \"https://fem-on-colab.github.io/releases/fenics-install-release-real.sh\" -O \"/tmp/fenics-install.sh\" && bash \"/tmp/fenics-install.sh\"\n",
        "    import dolfin"
      ],
      "metadata": {
        "id": "QyHpcaMuTzfE"
      },
      "execution_count": 1,
      "outputs": []
    },
    {
      "cell_type": "code",
      "source": [
        "import fenics as fe\n",
        "import mshr as msh\n",
        "from matplotlib import pyplot"
      ],
      "metadata": {
        "id": "I7WB4wLWyCcH"
      },
      "execution_count": 2,
      "outputs": []
    },
    {
      "cell_type": "markdown",
      "source": [
        "#  Duffing oscillator process in a ball of $\\mathbb{R}^2$ : computation of solutions using Finite Element Method\n",
        "\n",
        "Based on the paper [A neural network solution of first-passage problems](https://link.springer.com/article/10.1007/s10483-024-3189-8) (Jiamin Qian, Lincong Chen & J. Q. Sun, Oct. 2024), the 2-dimensional Duffing oscillator is defined by:\n",
        "$$ d \\begin{pmatrix} X_1(t)\\\\\n",
        "X_2(t) \\end{pmatrix} = \\begin{pmatrix} X_2\\\\\n",
        "-X_1 - X_1^3 - 2\\zeta X_2 \\end{pmatrix} dt + \\begin{pmatrix} \\sqrt{2\\varepsilon}dB_1(t)\\\\\n",
        "\\sqrt{2\\zeta} dB_2(t) \\end{pmatrix}$$\n",
        "\n",
        "The infinitesimal generator of this process is given for sufficiently smooth $f$ by\n",
        "$$\\mathscr Lf: x \\mapsto b(x) \\cdot \\nabla f(x) + a(x) : \\nabla^2 f(x)$$\n",
        "where\n",
        "$$b : x = (x_1, x_2)^T \\mapsto \\begin{pmatrix} x_2\\\\ -x_1 - x_1^3 - 2\\zeta x_2 \\end{pmatrix}  $$\n",
        "and\n",
        "$$a:x \\mapsto \\frac12 \\sigma(x)\\sigma(x)^T = \\begin{pmatrix} \\varepsilon & 0\\\\ 0 & \\zeta\\end{pmatrix} $$"
      ],
      "metadata": {
        "id": "Rh-yuT-m-8z6"
      }
    },
    {
      "cell_type": "markdown",
      "source": [
        "## 1) The PDE problem\n",
        "\n",
        "The Mean Escape Time (MET) $\\tau$ is solution of the following elliptic problem\n",
        "\n",
        "$$\\begin{cases}\\mathscr L\\tau = -1 \\quad \\text{in } \\Omega,\\\\\n",
        "\\tau= 0 \\quad\\text{ on }\\partial\\Omega\\end{cases} $$"
      ],
      "metadata": {
        "id": "12MVauZ9WKdR"
      }
    },
    {
      "cell_type": "markdown",
      "source": [
        "##2) The variational formulation\n",
        "\n",
        "Because $\\mathscr L$ is a second-order elliptic operator, we need to use integration by parts to make the PDE solvable in a traditional FEM solver. To do so, we multiply the PDE with a test function $v\\in \\hat V$, which belongs in the test function space $\\hat V$. We then integrate over $\\Omega$:\n",
        "$$\\begin{align*}\\int_\\Omega\\mathscr L\\tau\\cdot v = -\\int_\\Omega v &\\implies \\int_\\Omega \\Big(x_2\\partial_{x_1}\\tau(x) - (x_1 + x_1^3 + 2\\zeta x_2)\\partial_{x_2} \\tau(x) + \\varepsilon \\partial^2_{x_1,x_1}\\tau(x) + \\zeta \\partial^2_{x_2,x_2}\\tau(x) + 1\\Big)v(x)dx = 0 \\end{align*} $$\n",
        "\n",
        "The first order derivatives of $\\tau$ can be handled just fine by the solver, but the second order derivatives can't, hence we apply integration by parts to get the following weak formulation:\n",
        "\n",
        "$$\\int_\\Omega \\Big[\\Big(x_2\\partial_{x_1}\\tau(x) - (x_1 + x_1^3 + 2\\zeta x_2)\\partial_{x_2} \\tau(x)\\Big)v(x) - \\varepsilon \\partial_{x_1}\\tau(x)\\partial_{x_1}v(x) - \\zeta \\partial_{x_2}\\tau(x)\\partial_{x_2}v(x)\\Big] dx = - \\int_\\Omega v(x) dx$$\n",
        "\n",
        "Which can be equivalently rewritten as\n",
        "\n",
        "$$ a[\\tau, v] = L(v) $$\n",
        "\n",
        "Where $a$ is the bilinear form defined as\n",
        "\n",
        "$$a : (\\tau, v)\\mapsto \\int_\\Omega \\Big[\\Big(x_2\\partial_{x_1}\\tau(x) - (x_1 + x_1^3 + 2\\zeta x_2)\\partial_{x_2} \\tau(x)\\Big)v(x) - \\varepsilon \\partial_{x_1}\\tau(x)\\partial_{x_1}v(x) - \\zeta \\partial_{x_2}\\tau(x)\\partial_{x_2}v(x)\\Big] dx, $$\n",
        "\n",
        "which equivalently reads\n",
        "\n",
        "$$a : (\\tau, v)\\mapsto \\int_\\Omega \\nabla\\tau(x) \\cdot b(x) v(x) - \\text{diag}(\\varepsilon, \\zeta)\\nabla\\tau(x)\\cdot\\nabla v(x) dx$$\n",
        "\n",
        "and $L$ is the linear form defined as\n",
        "\n",
        "$$L : v\\mapsto - \\int_\\Omega v(x) dx $$"
      ],
      "metadata": {
        "id": "m4T01vVRX3X2"
      }
    },
    {
      "cell_type": "markdown",
      "source": [
        "## 3) FEniCS implementation"
      ],
      "metadata": {
        "id": "6ZGTlmdxamkC"
      }
    },
    {
      "cell_type": "code",
      "source": [
        "#create mesh and define function space\n",
        "radius = 2\n",
        "domain = msh.Circle(fe.Point(0, 0), radius)\n",
        "mesh = msh.generate_mesh(domain, 128)\n",
        "\n",
        "V = fe.FunctionSpace(mesh, \"P\", 3)\n",
        "tau_b = fe.Constant(0.0)\n",
        "\n",
        "def boundary(x, on_boundary):\n",
        "    return on_boundary\n",
        "\n",
        "bc = fe.DirichletBC(V, tau_b, boundary)"
      ],
      "metadata": {
        "id": "91wu8xb8E4RI"
      },
      "execution_count": 3,
      "outputs": []
    },
    {
      "cell_type": "code",
      "source": [
        "zeta = 0.08\n",
        "eps = 0.001\n",
        "\n",
        "tau = fe.TrialFunction(V)\n",
        "v = fe.TestFunction(V)\n",
        "f = fe.Constant(-1.0)\n",
        "\n",
        "b = fe.Expression((\"x[1]\", \"-x[0] - pow(x[0],3) -2*zeta *x[1]\"), degree=3, zeta = zeta)\n",
        "diag =  fe.Expression(((\"eps\", 0), (0, \"zeta\")), degree = 0, eps=eps, zeta=zeta)\n",
        "\n",
        "a = (fe.dot(fe.dot(fe.grad(tau),b), v) - fe.dot(fe.dot(diag, fe.grad(tau)), fe.grad(v)))*fe.dx\n",
        "L = f * v * fe.dx"
      ],
      "metadata": {
        "id": "Buz9W9N2wNGX"
      },
      "execution_count": 4,
      "outputs": []
    },
    {
      "cell_type": "code",
      "source": [
        "# Compute solution\n",
        "tau_h = fe.Function(V)\n",
        "fe.solve(a == L, tau_h, bc)"
      ],
      "metadata": {
        "id": "i26wgFt-zg0B",
        "outputId": "07393182-6b17-44c4-c31b-265d4644b3d8",
        "colab": {
          "base_uri": "https://localhost:8080/"
        }
      },
      "execution_count": 5,
      "outputs": [
        {
          "output_type": "stream",
          "name": "stdout",
          "text": [
            "Calling FFC just-in-time (JIT) compiler, this may take some time.\n"
          ]
        },
        {
          "output_type": "stream",
          "name": "stderr",
          "text": [
            "Level 25:FFC:Calling FFC just-in-time (JIT) compiler, this may take some time.\n",
            "INFO:FFC:Compiling form ffc_form_cc8439ecd2bf4d801848ade27f420b1b2f5436fc\n",
            "\n",
            "INFO:FFC:Compiler stage 1: Analyzing form(s)\n",
            "INFO:FFC:-----------------------------------\n",
            "DEBUG:FFC:  Preprocessing form using 'uflacs' representation family.\n",
            "INFO:UFL_LEGACY:Adjusting missing element cell to triangle.\n",
            "INFO:FFC:  \n",
            "INFO:FFC:  Geometric dimension:       2\n",
            "  Number of cell subdomains: 0\n",
            "  Rank:                      1\n",
            "  Arguments:                 '(v_0)'\n",
            "  Number of coefficients:    1\n",
            "  Coefficients:              '[f_16]'\n",
            "  Unique elements:           'CG3(?,?), R0(?,?), Vector<2 x CG1(?,?)>'\n",
            "  Unique sub elements:       'CG3(?,?), R0(?,?), Vector<2 x CG1(?,?)>, CG1(?,?)'\n",
            "  \n",
            "INFO:FFC:  representation:    auto --> uflacs\n",
            "INFO:FFC:  quadrature_rule:   auto --> default\n",
            "INFO:FFC:  quadrature_degree: auto --> 3\n",
            "INFO:FFC:  quadrature_degree: 3\n",
            "INFO:FFC:  \n",
            "INFO:FFC:Compiler stage 1 finished in 0.0791643 seconds.\n",
            "\n",
            "INFO:FFC:Compiler stage 2: Computing intermediate representation\n",
            "INFO:FFC:-------------------------------------------------------\n",
            "INFO:FFC:  Computing representation of 0 elements\n",
            "INFO:FFC:  Computing representation of 0 dofmaps\n",
            "INFO:FFC:  Computing representation of 0 coordinate mappings\n",
            "INFO:FFC:  Computing representation of integrals\n",
            "INFO:FFC:  Computing uflacs representation\n",
            "DEBUG:FFC:  Reusing element from cache\n",
            "DEBUG:FFC:  Reusing element from cache\n",
            "DEBUG:FFC:  Reusing element from cache\n",
            "DEBUG:FFC:  Reusing element from cache\n",
            "DEBUG:FFC:  Reusing element from cache\n",
            "DEBUG:FFC:  Reusing element from cache\n",
            "DEBUG:FFC:  Reusing element from cache\n",
            "DEBUG:FFC:  Reusing element from cache\n",
            "DEBUG:FFC:  Reusing element from cache\n",
            "DEBUG:FFC:  Reusing element from cache\n",
            "DEBUG:FFC:  Reusing element from cache\n",
            "DEBUG:FFC:  Reusing element from cache\n",
            "DEBUG:FFC:  Reusing element from cache\n",
            "DEBUG:UFL_LEGACY:Blocks of each mode: \n",
            "\n",
            "INFO:FFC:  Computing representation of forms\n",
            "INFO:FFC:  \n",
            "INFO:FFC:Compiler stage 2 finished in 1.82526 seconds.\n",
            "\n",
            "INFO:FFC:Compiler stage 3: Optimizing intermediate representation\n",
            "INFO:FFC:--------------------------------------------------------\n",
            "INFO:FFC:  Optimizing uflacs representation\n",
            "INFO:FFC:  \n",
            "INFO:FFC:Compiler stage 3 finished in 0.028405 seconds.\n",
            "\n",
            "INFO:FFC:Compiler stage 4: Generating code\n",
            "INFO:FFC:---------------------------------\n",
            "INFO:FFC:  Generating code for 0 finite_element(s)\n",
            "INFO:FFC:  Generating code for 0 dofmap(s)\n",
            "INFO:FFC:  Generating code for 0 coordinate_mapping(s)\n",
            "INFO:FFC:  Generating code for integrals\n",
            "INFO:FFC:  Generating code from ffc.uflacs representation\n",
            "INFO:FFC:  Generating code for forms\n",
            "INFO:FFC:  \n",
            "INFO:FFC:Compiler stage 4 finished in 0.0628176 seconds.\n",
            "\n",
            "INFO:FFC:Compiler stage 4.1 finished in 4.52995e-06 seconds.\n",
            "\n",
            "INFO:FFC:Compiler stage 5: Formatting code\n",
            "INFO:FFC:---------------------------------\n",
            "INFO:FFC:  \n",
            "INFO:FFC:Compiler stage 5 finished in 0.00589609 seconds.\n",
            "\n",
            "INFO:FFC:FFC finished in 2.02232 seconds.\n"
          ]
        },
        {
          "output_type": "stream",
          "name": "stdout",
          "text": [
            "Calling FFC just-in-time (JIT) compiler, this may take some time.\n"
          ]
        },
        {
          "output_type": "stream",
          "name": "stderr",
          "text": [
            "Level 25:FFC:Calling FFC just-in-time (JIT) compiler, this may take some time.\n",
            "INFO:FFC:Compiling form ffc_form_94c8ff4c2c24211b07ce143713155b1aadfb7055\n",
            "\n",
            "INFO:FFC:Compiler stage 1: Analyzing form(s)\n",
            "INFO:FFC:-----------------------------------\n",
            "DEBUG:FFC:  Preprocessing form using 'uflacs' representation family.\n",
            "INFO:UFL_LEGACY:Adjusting missing element cell to triangle.\n",
            "INFO:UFL_LEGACY:Adjusting missing element cell to triangle.\n",
            "INFO:UFL_LEGACY:Adjusting missing element cell to triangle.\n",
            "INFO:UFL_LEGACY:Adjusting missing element cell to triangle.\n",
            "INFO:UFL_LEGACY:Adjusting missing element cell to triangle.\n",
            "INFO:UFL_LEGACY:Adjusting missing element cell to triangle.\n",
            "INFO:UFL_LEGACY:Adjusting missing element cell to triangle.\n",
            "INFO:UFL_LEGACY:Adjusting missing element cell to triangle.\n",
            "INFO:FFC:  \n",
            "INFO:FFC:  Geometric dimension:       2\n",
            "  Number of cell subdomains: 0\n",
            "  Rank:                      2\n",
            "  Arguments:                 '(v_0, v_1)'\n",
            "  Number of coefficients:    2\n",
            "  Coefficients:              '[f_17, f_18]'\n",
            "  Unique elements:           'CG3(?,?), Vector<2 x CG3(?,?)>, Tensor<(2, 2) x DG0(?,\n",
            "                             ?)>, Vector<2 x CG1(?,?)>'\n",
            "  Unique sub elements:       'CG3(?,?), Vector<2 x CG3(?,?)>, Tensor<(2, 2) x DG0(?,\n",
            "                             ?)>, Vector<2 x CG1(?,?)>, DG0(?,?), CG1(?,?)'\n",
            "  \n",
            "INFO:FFC:  representation:    auto --> uflacs\n",
            "INFO:FFC:  quadrature_rule:   auto --> default\n",
            "INFO:FFC:  quadrature_degree: auto --> 8\n",
            "INFO:FFC:  quadrature_degree: 8\n",
            "INFO:FFC:  \n",
            "INFO:FFC:Compiler stage 1 finished in 0.101938 seconds.\n",
            "\n",
            "INFO:FFC:Compiler stage 2: Computing intermediate representation\n",
            "INFO:FFC:-------------------------------------------------------\n",
            "INFO:FFC:  Computing representation of 0 elements\n",
            "INFO:FFC:  Computing representation of 0 dofmaps\n",
            "INFO:FFC:  Computing representation of 0 coordinate mappings\n",
            "INFO:FFC:  Computing representation of integrals\n",
            "INFO:FFC:  Computing uflacs representation\n",
            "DEBUG:FFC:  Reusing element from cache\n",
            "DEBUG:FFC:  Reusing element from cache\n",
            "DEBUG:FFC:  Reusing element from cache\n",
            "DEBUG:FFC:  Reusing element from cache\n",
            "DEBUG:FFC:  Reusing element from cache\n",
            "DEBUG:FFC:  Reusing element from cache\n",
            "DEBUG:FFC:  Reusing element from cache\n",
            "DEBUG:FFC:  Reusing element from cache\n",
            "DEBUG:FFC:  Reusing element from cache\n",
            "DEBUG:FFC:  Reusing element from cache\n",
            "DEBUG:FFC:  Reusing element from cache\n",
            "DEBUG:FFC:  Reusing element from cache\n",
            "DEBUG:FFC:  Reusing element from cache\n",
            "DEBUG:FFC:  Reusing element from cache\n",
            "DEBUG:FFC:  Reusing element from cache\n",
            "DEBUG:FFC:  Reusing element from cache\n",
            "DEBUG:FFC:  Reusing element from cache\n",
            "DEBUG:FFC:  Reusing element from cache\n",
            "DEBUG:FFC:  Reusing element from cache\n",
            "DEBUG:FFC:  Reusing element from cache\n",
            "DEBUG:FFC:  Reusing element from cache\n",
            "DEBUG:FFC:  Reusing element from cache\n",
            "DEBUG:FFC:  Reusing element from cache\n",
            "DEBUG:FFC:  Reusing element from cache\n",
            "DEBUG:FFC:  Reusing element from cache\n",
            "DEBUG:FFC:  Reusing element from cache\n",
            "DEBUG:FFC:  Reusing element from cache\n",
            "DEBUG:FFC:  Reusing element from cache\n",
            "DEBUG:FFC:  Reusing element from cache\n",
            "DEBUG:UFL_LEGACY:Blocks of each mode: \n",
            "  2\tfull\n",
            "INFO:FFC:  Computing representation of forms\n",
            "INFO:FFC:  \n",
            "INFO:FFC:Compiler stage 2 finished in 0.180636 seconds.\n",
            "\n",
            "INFO:FFC:Compiler stage 3: Optimizing intermediate representation\n",
            "INFO:FFC:--------------------------------------------------------\n",
            "INFO:FFC:  Optimizing uflacs representation\n",
            "INFO:FFC:  \n",
            "INFO:FFC:Compiler stage 3 finished in 0.00541186 seconds.\n",
            "\n",
            "INFO:FFC:Compiler stage 4: Generating code\n",
            "INFO:FFC:---------------------------------\n",
            "INFO:FFC:  Generating code for 0 finite_element(s)\n",
            "INFO:FFC:  Generating code for 0 dofmap(s)\n",
            "INFO:FFC:  Generating code for 0 coordinate_mapping(s)\n",
            "INFO:FFC:  Generating code for integrals\n",
            "INFO:FFC:  Generating code from ffc.uflacs representation\n",
            "INFO:FFC:  Generating code for forms\n",
            "INFO:FFC:  \n",
            "INFO:FFC:Compiler stage 4 finished in 0.0412343 seconds.\n",
            "\n",
            "INFO:FFC:Compiler stage 4.1 finished in 3.8147e-06 seconds.\n",
            "\n",
            "INFO:FFC:Compiler stage 5: Formatting code\n",
            "INFO:FFC:---------------------------------\n",
            "INFO:FFC:  \n",
            "INFO:FFC:Compiler stage 5 finished in 0.00629616 seconds.\n",
            "\n",
            "INFO:FFC:FFC finished in 0.347075 seconds.\n"
          ]
        }
      ]
    },
    {
      "cell_type": "code",
      "source": [
        "fe.plot(tau_h)"
      ],
      "metadata": {
        "id": "IILvCY-bzovw",
        "outputId": "79ec2ff6-2d38-4032-ee52-289752dc1810",
        "colab": {
          "base_uri": "https://localhost:8080/",
          "height": 465
        }
      },
      "execution_count": 6,
      "outputs": [
        {
          "output_type": "execute_result",
          "data": {
            "text/plain": [
              "[<matplotlib.lines.Line2D at 0x793bfcf53c90>,\n",
              " <matplotlib.lines.Line2D at 0x793bef3469d0>]"
            ]
          },
          "metadata": {},
          "execution_count": 6
        },
        {
          "output_type": "display_data",
          "data": {
            "text/plain": [
              "<Figure size 640x480 with 1 Axes>"
            ],
            "image/png": "[encoded data removed]"
          },
          "metadata": {}
        }
      ]
    },
    {
      "cell_type": "code",
      "source": [
        "fe.plot(mesh)"
      ],
      "metadata": {
        "id": "81uc8NMt4IrE",
        "outputId": "0c0a922b-357e-43d2-b7d2-dd010ab4d237",
        "colab": {
          "base_uri": "https://localhost:8080/",
          "height": 465
        }
      },
      "execution_count": 7,
      "outputs": [
        {
          "output_type": "execute_result",
          "data": {
            "text/plain": [
              "[<matplotlib.lines.Line2D at 0x793bee5e9310>,\n",
              " <matplotlib.lines.Line2D at 0x793bef1b69d0>]"
            ]
          },
          "metadata": {},
          "execution_count": 7
        },
        {
          "output_type": "display_data",
          "data": {
            "text/plain": [
              "<Figure size 640x480 with 1 Axes>"
            ],
            "image/png": "[encoded data removed]"
          },
          "metadata": {}
        }
      ]
    },
    {
      "cell_type": "code",
      "source": [],
      "metadata": {
        "id": "eV1hohsC4JeE"
      },
      "execution_count": null,
      "outputs": []
    }
  ]
}