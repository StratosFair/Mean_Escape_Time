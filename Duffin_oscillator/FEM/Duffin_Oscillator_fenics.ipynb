{
  "nbformat": 4,
  "nbformat_minor": 0,
  "metadata": {
    "colab": {
      "provenance": [],
      "authorship_tag": "ABX9TyP1QTfCSEzbcpKjLI8ITJYs",
      "include_colab_link": true
    },
    "kernelspec": {
      "name": "python3",
      "display_name": "Python 3"
    },
    "language_info": {
      "name": "python"
    }
  },
  "cells": [
    {
      "cell_type": "markdown",
      "metadata": {
        "id": "view-in-github",
        "colab_type": "text"
      },
      "source": [
        "<a href=\"https://colab.research.google.com/github/StratosFair/Mean_Escape_Time/blob/main/Duffin_oscillator/FEM/Duffin_Oscillator_fenics.ipynb\" target=\"_parent\"><img src=\"https://colab.research.google.com/assets/colab-badge.svg\" alt=\"Open In Colab\"/></a>"
      ]
    },
    {
      "cell_type": "code",
      "source": [
        "try:\n",
        "    import dolfin\n",
        "except ImportError:\n",
        "    !wget \"https://fem-on-colab.github.io/releases/fenics-install-release-real.sh\" -O \"/tmp/fenics-install.sh\" && bash \"/tmp/fenics-install.sh\"\n",
        "    import dolfin"
      ],
      "metadata": {
        "id": "QyHpcaMuTzfE",
        "colab": {
          "base_uri": "https://localhost:8080/",
          "height": 53
        },
        "outputId": "4d390161-775e-4976-ebb2-945792d1914b"
      },
      "execution_count": null,
      "outputs": [
        {
          "output_type": "execute_result",
          "data": {
            "text/plain": [
              "'try:\\n    import dolfin\\nexcept ImportError:\\n    !wget \"https://fem-on-colab.github.io/releases/fenics-install-release-real.sh\" -O \"/tmp/fenics-install.sh\" && bash \"/tmp/fenics-install.sh\"\\n    import dolfin'"
            ],
            "application/vnd.google.colaboratory.intrinsic+json": {
              "type": "string"
            }
          },
          "metadata": {},
          "execution_count": 1
        }
      ]
    },
    {
      "cell_type": "code",
      "source": [
        "# try:\n",
        "#     import gmsh\n",
        "# except ImportError:\n",
        "#     !wget \"https://fem-on-colab.github.io/releases/gmsh-install.sh\" -O \"/tmp/gmsh-install.sh\" && bash \"/tmp/gmsh-install.sh\"\n",
        "#     import gmsh"
      ],
      "metadata": {
        "id": "evsHkv8KTl0A"
      },
      "execution_count": null,
      "outputs": []
    },
    {
      "cell_type": "code",
      "source": [
        "# !pip install meshio\n",
        "# !apt-get install gmsh\n",
        "# !gmsh --version\n",
        "# !pip install --upgrade gmsh"
      ],
      "metadata": {
        "id": "DHkYduCtvePb"
      },
      "execution_count": null,
      "outputs": []
    },
    {
      "cell_type": "code",
      "source": [
        "import fenics as fe\n",
        "import mshr as msh\n",
        "from matplotlib import pyplot"
      ],
      "metadata": {
        "id": "I7WB4wLWyCcH"
      },
      "execution_count": null,
      "outputs": []
    },
    {
      "cell_type": "markdown",
      "source": [
        "#  Duffing oscillator process in a ball of $\\mathbb{R}^2$ : computation of solutions using Finite Element Method\n",
        "\n",
        "Based on the paper [A neural network solution of first-passage problems](https://link.springer.com/article/10.1007/s10483-024-3189-8) (Jiamin Qian, Lincong Chen & J. Q. Sun, Oct. 2024), the 2-dimensional Duffing oscillator is defined by:\n",
        "$$ d \\begin{pmatrix} X_1(t)\\\\\n",
        "X_2(t) \\end{pmatrix} = \\begin{pmatrix} X_2\\\\\n",
        "-X_1 - X_1^3 - 2\\zeta X_2 \\end{pmatrix} dt + \\begin{pmatrix} \\sqrt{2\\varepsilon}dB_1(t)\\\\\n",
        "\\sqrt{2\\zeta} dB_2(t) \\end{pmatrix}$$\n",
        "\n",
        "The infinitesimal generator of this process is given for sufficiently smooth $f$ by\n",
        "$$\\mathscr Lf: x \\mapsto b(x) \\cdot \\nabla f(x) + a(x) : \\nabla^2 f(x)$$\n",
        "where\n",
        "$$b : x = (x_1, x_2)^T \\mapsto \\begin{pmatrix} x_2\\\\ -x_1 - x_1^3 - 2\\zeta x_2 \\end{pmatrix}  $$\n",
        "and\n",
        "$$a:x \\mapsto \\frac12 \\sigma(x)\\sigma(x)^T = \\begin{pmatrix} \\varepsilon & 0\\\\ 0 & \\zeta\\end{pmatrix} $$"
      ],
      "metadata": {
        "id": "Rh-yuT-m-8z6"
      }
    },
    {
      "cell_type": "markdown",
      "source": [
        "## 1) The PDE problem\n",
        "\n",
        "The Mean Escape Time (MET) $\\tau$ is solution of the following elliptic problem\n",
        "\n",
        "$$\\begin{cases}\\mathscr L\\tau = -1 \\quad \\text{in } \\Omega,\\\\\n",
        "\\tau= 0 \\quad\\text{ on }\\partial\\Omega\\end{cases} $$"
      ],
      "metadata": {
        "id": "12MVauZ9WKdR"
      }
    },
    {
      "cell_type": "markdown",
      "source": [
        "##2) The variational formulation\n",
        "\n",
        "Because $\\mathscr L$ is a second-order elliptic operator, we need to use integration by parts to make the PDE solvable in a traditional FEM solver. To do so, we multiply the PDE with a test function $v\\in \\hat V$, which belongs in the test function space $\\hat V$. We then integrate over $\\Omega$:\n",
        "$$\\begin{align*}\\int_\\Omega\\mathscr L\\tau\\cdot v = -\\int_\\Omega v &\\implies \\int_\\Omega \\Big(x_2\\partial_{x_1}\\tau(x) - (x_1 + x_1^3 + 2\\zeta x_2)\\partial_{x_2} \\tau(x) + \\varepsilon \\partial^2_{x_1,x_1}\\tau(x) + \\zeta \\partial^2_{x_2,x_2}\\tau(x) + 1\\Big)v(x)dx = 0 \\end{align*} $$\n",
        "\n",
        "The first order derivatives of $\\tau$ can be handled just fine by the solver, but the second order derivatives can't, hence we apply integration by parts to get the following weak formulation:\n",
        "\n",
        "$$\\int_\\Omega \\Big[\\Big(x_2\\partial_{x_1}\\tau(x) - (x_1 + x_1^3 + 2\\zeta x_2)\\partial_{x_2} \\tau(x)\\Big)v(x) - \\varepsilon \\partial_{x_1}\\tau(x)\\partial_{x_1}v(x) - \\zeta \\partial_{x_2}\\tau(x)\\partial_{x_2}v(x)\\Big] dx = - \\int_\\Omega v(x) dx$$\n",
        "\n",
        "Which can be equivalently rewritten as\n",
        "\n",
        "$$ a[\\tau, v] = L(v) $$\n",
        "\n",
        "Where $a$ is the bilinear form defined as\n",
        "\n",
        "$$a : (\\tau, v)\\mapsto \\int_\\Omega \\Big[\\Big(x_2\\partial_{x_1}\\tau(x) - (x_1 + x_1^3 + 2\\zeta x_2)\\partial_{x_2} \\tau(x)\\Big)v(x) - \\varepsilon \\partial_{x_1}\\tau(x)\\partial_{x_1}v(x) - \\zeta \\partial_{x_2}\\tau(x)\\partial_{x_2}v(x)\\Big] dx, $$\n",
        "\n",
        "which equivalently reads\n",
        "\n",
        "$$a : (\\tau, v)\\mapsto \\int_\\Omega \\nabla\\tau(x) \\cdot b(x) v(x) - \\text{diag}(\\varepsilon, \\zeta)\\nabla\\tau(x)\\cdot\\nabla v(x) dx$$\n",
        "\n",
        "and $L$ is the linear form defined as\n",
        "\n",
        "$$L : v\\mapsto - \\int_\\Omega v(x) dx $$"
      ],
      "metadata": {
        "id": "m4T01vVRX3X2"
      }
    },
    {
      "cell_type": "markdown",
      "source": [
        "## 3) FEniCS implementation"
      ],
      "metadata": {
        "id": "6ZGTlmdxamkC"
      }
    },
    {
      "cell_type": "code",
      "source": [
        "#generate mesh\n",
        "radius = 2\n",
        "domain = msh.Circle(fe.Point(0, 0), radius)\n",
        "mesh = msh.generate_mesh(domain, 64)\n",
        "V = fe.FunctionSpace(mesh, \"P\", 1)\n",
        "\n"
      ],
      "metadata": {
        "id": "91wu8xb8E4RI"
      },
      "execution_count": null,
      "outputs": []
    }
  ]
}