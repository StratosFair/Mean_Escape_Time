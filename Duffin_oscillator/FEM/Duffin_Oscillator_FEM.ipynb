{
  "nbformat": 4,
  "nbformat_minor": 0,
  "metadata": {
    "colab": {
      "provenance": [],
      "include_colab_link": true
    },
    "kernelspec": {
      "name": "python3",
      "display_name": "Python 3"
    },
    "language_info": {
      "name": "python"
    }
  },
  "cells": [
    {
      "cell_type": "markdown",
      "metadata": {
        "id": "view-in-github",
        "colab_type": "text"
      },
      "source": [
        "<a href=\"https://colab.research.google.com/github/StratosFair/Mean_Escape_Time/blob/main/Duffin_oscillator/FEM/Duffin_Oscillator_FEM.ipynb\" target=\"_parent\"><img src=\"https://colab.research.google.com/assets/colab-badge.svg\" alt=\"Open In Colab\"/></a>"
      ]
    },
    {
      "cell_type": "code",
      "source": [
        "'''try:\n",
        "    import dolfin\n",
        "except ImportError:\n",
        "    !wget \"https://fem-on-colab.github.io/releases/fenics-install-release-real.sh\" -O \"/tmp/fenics-install.sh\" && bash \"/tmp/fenics-install.sh\"\n",
        "    import dolfin'''"
      ],
      "metadata": {
        "id": "QyHpcaMuTzfE"
      },
      "execution_count": null,
      "outputs": []
    },
    {
      "cell_type": "code",
      "source": [
        "try:\n",
        "    import dolfinx\n",
        "except ImportError:\n",
        "    !wget \"https://fem-on-colab.github.io/releases/fenicsx-install-release-real.sh\" -O \"/tmp/fenicsx-install.sh\" && bash \"/tmp/fenicsx-install.sh\"\n",
        "    import dolfinx"
      ],
      "metadata": {
        "id": "lr74q3TqTt5p"
      },
      "execution_count": null,
      "outputs": []
    },
    {
      "cell_type": "code",
      "source": [
        "try:\n",
        "    import gmsh\n",
        "except ImportError:\n",
        "    !wget \"https://fem-on-colab.github.io/releases/gmsh-install.sh\" -O \"/tmp/gmsh-install.sh\" && bash \"/tmp/gmsh-install.sh\"\n",
        "    import gmsh"
      ],
      "metadata": {
        "id": "evsHkv8KTl0A"
      },
      "execution_count": null,
      "outputs": []
    },
    {
      "cell_type": "markdown",
      "source": [
        "#  Duffing oscillator process in a ball of $\\mathbb{R}^2$ : computation of solutions using Finite Element Method\n",
        "\n",
        "Based on the paper [A neural network solution of first-passage problems](https://link.springer.com/article/10.1007/s10483-024-3189-8) (Jiamin Qian, Lincong Chen & J. Q. Sun, Oct. 2024), the 2-dimensional Duffing oscillator is defined by:\n",
        "$$ d \\begin{pmatrix} X_1(t)\\\\\n",
        "X_2(t) \\end{pmatrix} = \\begin{pmatrix} X_2\\\\\n",
        "-X_1 - X_1^3 - 2\\zeta X_2 \\end{pmatrix} dt + \\begin{pmatrix} \\sqrt{2\\varepsilon}dB_1(t)\\\\\n",
        "\\sqrt{2\\zeta} dB_2(t) \\end{pmatrix}$$\n",
        "\n",
        "The infinitesimal generator of this process is given for sufficiently smooth $f$ by\n",
        "$$\\mathscr Lf: x \\mapsto b(x) \\cdot \\nabla f(x) + a(x) : \\nabla^2 f(x)$$\n",
        "where\n",
        "$$b : x = (x_1, x_2)^T \\mapsto \\begin{pmatrix} x_2\\\\ -x_1 - x_1^3 - 2\\zeta x_2 \\end{pmatrix}  $$\n",
        "and\n",
        "$$a:x \\mapsto \\frac12 \\sigma(x)\\sigma(x)^T = \\begin{pmatrix} \\varepsilon & 0\\\\ 0 & \\zeta\\end{pmatrix} $$"
      ],
      "metadata": {
        "id": "Rh-yuT-m-8z6"
      }
    },
    {
      "cell_type": "markdown",
      "source": [
        "## 1) The PDE problem\n",
        "\n",
        "The Mean Escape Time (MET) $\\tau$ is solution of the following elliptic problem\n",
        "\n",
        "$$\\begin{cases}\\mathscr L\\tau = -1 \\quad \\text{in } \\Omega,\\\\\n",
        "\\tau= 0 \\quad\\text{ on }\\partial\\Omega\\end{cases} $$"
      ],
      "metadata": {
        "id": "12MVauZ9WKdR"
      }
    },
    {
      "cell_type": "markdown",
      "source": [
        "##2) The variational formulation\n",
        "\n",
        "Because $\\mathscr L$ is a second-order elliptic operator, we need to use integration by parts to make the PDE solvable in a traditional FEM solver. To do so, we multiply the PDE with a test function $v\\in \\hat V$, which belongs in the test function space $\\hat V$. We then integrate over $\\Omega$:\n",
        "$$\\begin{align*}\\int_\\Omega\\mathscr L\\tau\\cdot v = -\\int_\\Omega v &\\implies \\int_\\Omega \\Big(x_2\\partial_{x_1}\\tau(x) - (x_1 + x_1^3 + 2\\zeta x_2)\\partial_{x_2} \\tau(x) + \\varepsilon \\partial^2_{x_1,x_1}\\tau(x) + \\zeta \\partial^2_{x_2,x_2}\\tau(x) + 1\\Big)v(x)dx = 0 \\end{align*} $$\n",
        "\n",
        "The first order derivatives of $\\tau$ can be handled just fine by the solver, but the second order derivatives can't, hence we apply integration by parts to get the following weak formulation:\n",
        "\n",
        "$$\\int_\\Omega \\Big[\\Big(x_2\\partial_{x_1}\\tau(x) - (x_1 + x_1^3 + 2\\zeta x_2)\\partial_{x_2} \\tau(x)\\Big)v(x) - \\varepsilon \\partial_{x_1}\\tau(x)\\partial_{x_1}v(x) - \\zeta \\partial_{x_2}\\tau(x)\\partial_{x_2}v(x)\\Big] dx = - \\int_\\Omega v(x) dx$$\n",
        "\n",
        "Which can be equivalently rewritten as\n",
        "\n",
        "$$ a[\\tau, v] = L(v) $$\n",
        "\n",
        "Where $a$ is the bilinear form defined as\n",
        "\n",
        "$$a : (\\tau, v)\\mapsto \\int_\\Omega \\Big[\\Big(x_2\\partial_{x_1}\\tau(x) - (x_1 + x_1^3 + 2\\zeta x_2)\\partial_{x_2} \\tau(x)\\Big)v(x) - \\varepsilon \\partial_{x_1}\\tau(x)\\partial_{x_1}v(x) - \\zeta \\partial_{x_2}\\tau(x)\\partial_{x_2}v(x)\\Big] dx, $$\n",
        "\n",
        "which equivalently reads\n",
        "\n",
        "$$a : (\\tau, v)\\mapsto \\int_\\Omega \\nabla\\tau(x) \\cdot b(x) v(x) - \\text{diag}(\\varepsilon, \\zeta)\\nabla\\tau(x)\\cdot\\nabla v(x) dx$$\n",
        "\n",
        "and $L$ is the linear form defined as\n",
        "\n",
        "$$L : v\\mapsto - \\int_\\Omega v(x) dx $$"
      ],
      "metadata": {
        "id": "m4T01vVRX3X2"
      }
    },
    {
      "cell_type": "markdown",
      "source": [
        "## 3) FEniCS implementation"
      ],
      "metadata": {
        "id": "6ZGTlmdxamkC"
      }
    },
    {
      "cell_type": "code",
      "execution_count": null,
      "metadata": {
        "id": "5rn_zfHW-pLD"
      },
      "outputs": [],
      "source": [
        "import numpy as np\n",
        "from mpi4py import MPI\n",
        "from dolfinx import mesh\n",
        "from dolfinx.io import gmshio\n",
        "from dolfinx.fem.petsc import LinearProblem\n",
        "from dolfinx import fem"
      ]
    },
    {
      "cell_type": "code",
      "source": [
        "#create mesh and define function space\n",
        "radius = 2\n",
        "gmsh.initialize()\n",
        "membrane = gmsh.model.occ.addDisk(0, 0, 0, radius, radius)\n",
        "gmsh.model.occ.synchronize()\n",
        "gdim = 2\n",
        "gmsh.model.addPhysicalGroup(gdim, [membrane], 1)\n",
        "gmsh.option.setNumber(\"Mesh.CharacteristicLengthMin\", 0.05)\n",
        "gmsh.option.setNumber(\"Mesh.CharacteristicLengthMax\", 0.05)\n",
        "gmsh.model.mesh.generate(gdim)\n",
        "\n",
        "gmsh_model_rank = 0\n",
        "mesh_comm = MPI.COMM_WORLD\n",
        "domain, cell_markers, facet_markers = gmshio.model_to_mesh(gmsh.model, mesh_comm, gmsh_model_rank, gdim=gdim)\n",
        "\n",
        "#define function space\n",
        "V = fem.functionspace(domain, (\"Lagrange\", 1))\n",
        "\n",
        "#define boundary conditions\n",
        "def on_boundary(x):\n",
        "    return np.isclose(np.sqrt(x[0]**2 + x[1]**2), 1)\n",
        "\n",
        "boundary_dofs = fem.locate_dofs_geometrical(V, on_boundary)\n",
        "bc = fem.dirichletbc(default_scalar_type(0), boundary_dofs, V)"
      ],
      "metadata": {
        "id": "SLwahEeXb4mi"
      },
      "execution_count": null,
      "outputs": []
    },
    {
      "cell_type": "code",
      "source": [
        "# Define variational problem\n",
        "tau = ufl.TrialFunction(V)\n",
        "v = ufl.TestFunction(V)\n",
        "a = ufl.dot(ufl.grad(u), ufl.grad(v)) * ufl.dx\n",
        "L = -1 * v * ufl.dx\n",
        "problem = LinearProblem(a, L, bcs=[bc], petsc_options={\"ksp_type\": \"preonly\", \"pc_type\": \"lu\"})\n",
        "tauh = problem.solve()\n",
        "\n",
        "def b(x):\n",
        "    values = np.zeros((4, x.shape[1]))\n",
        "    values[0] = 1  # location [0,0]\n",
        "    values[1] = 3*x[0]  # location [0,1]\n",
        "    values[2] = 3  # location [1,0]\n",
        "    values[3] = 4*x[1]**2  # location [1, 1]\n",
        "    return values\n",
        "\n",
        "a = dot(grad(tau), grad(v))*dx\n",
        "L = f*v*dx\n",
        "\n",
        "\n",
        "# Compute solution\n",
        "tau = Function(V)\n",
        "solve(a == L, u, bc)\n",
        "#define variational problem\n",
        "tau = TrialFunction(V)\n",
        "v = TestFunction(V)"
      ],
      "metadata": {
        "id": "Q_QL1MhB4u36"
      },
      "execution_count": null,
      "outputs": []
    }
  ]
}